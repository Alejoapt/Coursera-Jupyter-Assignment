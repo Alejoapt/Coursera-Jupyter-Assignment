{
 "cells": [
  {
   "cell_type": "markdown",
   "id": "3a0addb9-5511-4a9c-b8a1-7087a5f9c9cc",
   "metadata": {},
   "source": [
    "# Satoshi's Peer-graded Assignment"
   ]
  },
  {
   "cell_type": "markdown",
   "id": "df9d1284-0e68-4c12-bee5-d9d8397e659c",
   "metadata": {},
   "source": [
    "## Introduction\n",
    "This notebook provides an overview of essential tools, languages, and libraries used in data science. It also includes basic arithmetic operations and unit conversions as examples of practical applications.\n"
   ]
  },
  {
   "cell_type": "markdown",
   "id": "3e6bdde7-663e-4b29-ba40-4f0ae8c8eb25",
   "metadata": {},
   "source": [
    "## Arithmetic Expression Examples\n",
    "This is the introduction markdown from Satoshi's Assignment\n"
   ]
  },
  {
   "cell_type": "markdown",
   "id": "1d4aab48-2996-40e8-a9e2-5524bfd6c97b",
   "metadata": {},
   "source": [
    "## Data Science Languages\n",
    "- Python\n",
    "- R\n",
    "- SQL\n",
    "- Julia\n",
    "- Scala\n"
   ]
  },
  {
   "cell_type": "markdown",
   "id": "c3cfe0cb-cd8c-4406-9d9c-333c25be886a",
   "metadata": {},
   "source": [
    "## Data Science Libraries\n",
    "- NumPy\n",
    "- Pandas\n",
    "- Matplotlib\n",
    "- TensorFlow\n",
    "- Scikit-learn\n"
   ]
  },
  {
   "cell_type": "markdown",
   "id": "e776f123-dd87-43c7-9907-53f2f56dd7f2",
   "metadata": {},
   "source": [
    "## Data Science Tools\n",
    "\n",
    "| Tool            | Purpose                          |\n",
    "|-----------------|----------------------------------|\n",
    "| Jupyter Notebook| Interactive computing            |\n",
    "| RStudio         | Statistical computing            |\n",
    "| Apache Hadoop   | Big Data Processing              |\n",
    "| TensorFlow      | Machine Learning Framework       |\n",
    "| Power BI        | Data Visualization and Reporting |\n"
   ]
  },
  {
   "cell_type": "markdown",
   "id": "5f86e458-e3fb-4ecc-80f0-b565857046e8",
   "metadata": {},
   "source": [
    "## Arithmetic Expression Examples\n",
    "In the following examples, we will demonstrate how to perform basic arithmetic operations such as addition, multiplication, and conversion of units.\n"
   ]
  },
  {
   "cell_type": "code",
   "execution_count": 1,
   "id": "4f6bd266-4b52-482c-a873-a892dd0f5169",
   "metadata": {},
   "outputs": [
    {
     "data": {
      "text/plain": [
       "17"
      ]
     },
     "execution_count": 1,
     "metadata": {},
     "output_type": "execute_result"
    }
   ],
   "source": [
    "# Multiply and add numbers\n",
    "result = (3 * 4) + 5\n",
    "result"
   ]
  },
  {
   "cell_type": "code",
   "execution_count": 2,
   "id": "f9662dee-1cde-4f3c-a114-7d2ebcb44029",
   "metadata": {},
   "outputs": [
    {
     "data": {
      "text/plain": [
       "2.0"
      ]
     },
     "execution_count": 2,
     "metadata": {},
     "output_type": "execute_result"
    }
   ],
   "source": [
    "# Convert minutes to hours\n",
    "minutes = 120\n",
    "hours = minutes / 60\n",
    "hours"
   ]
  },
  {
   "cell_type": "markdown",
   "id": "7959605c-2874-4ab8-af31-a3e9664de5bf",
   "metadata": {},
   "source": [
    "## Objectives\n",
    "- List common data science languages\n",
    "- List commonly used data science libraries\n",
    "- Present a table of data science tools\n",
    "- Demonstrate arithmetic operations in Python\n",
    "- Perform a unit conversion from minutes to hours"
   ]
  },
  {
   "cell_type": "markdown",
   "id": "f42afefe-75eb-476f-8644-31742fe9dd3e",
   "metadata": {},
   "source": [
    "## Author\n",
    "Satoshi Alejandro Tsukamoto Peña"
   ]
  },
  {
   "cell_type": "code",
   "execution_count": null,
   "id": "a50fe0cf-d4cc-42c2-b618-346e27931650",
   "metadata": {},
   "outputs": [],
   "source": []
  }
 ],
 "metadata": {
  "kernelspec": {
   "display_name": "Python 3 (ipykernel)",
   "language": "python",
   "name": "python3"
  },
  "language_info": {
   "codemirror_mode": {
    "name": "ipython",
    "version": 3
   },
   "file_extension": ".py",
   "mimetype": "text/x-python",
   "name": "python",
   "nbconvert_exporter": "python",
   "pygments_lexer": "ipython3",
   "version": "3.11.9"
  }
 },
 "nbformat": 4,
 "nbformat_minor": 5
}
